{
 "cells": [
  {
   "cell_type": "code",
   "execution_count": 3,
   "id": "179bd26a-9dc8-4240-8a7d-ace7242ca741",
   "metadata": {},
   "outputs": [
    {
     "name": "stdout",
     "output_type": "stream",
     "text": [
      "/n To-Do-List\n",
      "1. Add Task\n",
      "2. Show Task\n",
      "3. Delete Task\n",
      "4. Exit\n"
     ]
    },
    {
     "name": "stdin",
     "output_type": "stream",
     "text": [
      "Choose options(1-4) : 1\n",
      "Enter Task : Learn Powerbi\n"
     ]
    },
    {
     "name": "stdout",
     "output_type": "stream",
     "text": [
      "Task Entered\n",
      "/n To-Do-List\n",
      "1. Add Task\n",
      "2. Show Task\n",
      "3. Delete Task\n",
      "4. Exit\n"
     ]
    },
    {
     "name": "stdin",
     "output_type": "stream",
     "text": [
      "Choose options(1-4) : Learn sql\n"
     ]
    },
    {
     "name": "stdout",
     "output_type": "stream",
     "text": [
      "{Error !!! } Choose the number from 1-3\n",
      "/n To-Do-List\n",
      "1. Add Task\n",
      "2. Show Task\n",
      "3. Delete Task\n",
      "4. Exit\n"
     ]
    },
    {
     "name": "stdin",
     "output_type": "stream",
     "text": [
      "Choose options(1-4) : 1\n",
      "Enter Task : learn sql\n"
     ]
    },
    {
     "name": "stdout",
     "output_type": "stream",
     "text": [
      "Task Entered\n",
      "/n To-Do-List\n",
      "1. Add Task\n",
      "2. Show Task\n",
      "3. Delete Task\n",
      "4. Exit\n"
     ]
    },
    {
     "name": "stdin",
     "output_type": "stream",
     "text": [
      "Choose options(1-4) : 1\n",
      "Enter Task : Learn data structur and algorithm\n"
     ]
    },
    {
     "name": "stdout",
     "output_type": "stream",
     "text": [
      "Task Entered\n",
      "/n To-Do-List\n",
      "1. Add Task\n",
      "2. Show Task\n",
      "3. Delete Task\n",
      "4. Exit\n"
     ]
    },
    {
     "name": "stdin",
     "output_type": "stream",
     "text": [
      "Choose options(1-4) : 2\n"
     ]
    },
    {
     "name": "stdout",
     "output_type": "stream",
     "text": [
      "Tasks\n",
      "1.Learn Powerbi\n",
      "2.learn sql\n",
      "3.Learn data structur and algorithm\n",
      "/n To-Do-List\n",
      "1. Add Task\n",
      "2. Show Task\n",
      "3. Delete Task\n",
      "4. Exit\n"
     ]
    },
    {
     "name": "stdin",
     "output_type": "stream",
     "text": [
      "Choose options(1-4) : 3\n",
      "Enter the task number to delete: 5\n"
     ]
    },
    {
     "name": "stdout",
     "output_type": "stream",
     "text": [
      "Invalid number\n",
      "/n To-Do-List\n",
      "1. Add Task\n",
      "2. Show Task\n",
      "3. Delete Task\n",
      "4. Exit\n"
     ]
    },
    {
     "name": "stdin",
     "output_type": "stream",
     "text": [
      "Choose options(1-4) : hi\n"
     ]
    },
    {
     "name": "stdout",
     "output_type": "stream",
     "text": [
      "{Error !!! } Choose the number from 1-3\n",
      "/n To-Do-List\n",
      "1. Add Task\n",
      "2. Show Task\n",
      "3. Delete Task\n",
      "4. Exit\n"
     ]
    },
    {
     "name": "stdin",
     "output_type": "stream",
     "text": [
      "Choose options(1-4) : 3\n",
      "Enter the task number to delete: 1\n"
     ]
    },
    {
     "name": "stdout",
     "output_type": "stream",
     "text": [
      " task [Learn Powerbi] removed \n",
      "/n To-Do-List\n",
      "1. Add Task\n",
      "2. Show Task\n",
      "3. Delete Task\n",
      "4. Exit\n"
     ]
    },
    {
     "name": "stdin",
     "output_type": "stream",
     "text": [
      "Choose options(1-4) : 4\n"
     ]
    },
    {
     "name": "stdout",
     "output_type": "stream",
     "text": [
      "Bye\n"
     ]
    }
   ],
   "source": [
    "tasks = []\n",
    "\n",
    "while True :\n",
    "    print(\"/n To-Do-List\")\n",
    "    print(\"1. Add Task\")\n",
    "    print(\"2. Show Task\")\n",
    "    print(\"3. Delete Task\")\n",
    "    print(\"4. Exit\")\n",
    "    \n",
    "    choice = input(\"Choose options(1-4) :\")\n",
    "    \n",
    "    if choice == \"1\":\n",
    "        task = input(\"Enter Task :\")\n",
    "        tasks.append(task)\n",
    "        print(\"Task Entered\")\n",
    "    \n",
    "    elif choice == \"2\":\n",
    "        if not tasks:\n",
    "            print(\"No task has been entered\")\n",
    "        else:\n",
    "            print(\"Tasks\")\n",
    "            for i,t in enumerate(tasks,1):\n",
    "                print(f\"{i}.{t}\")\n",
    "    elif choice == \"3\":\n",
    "        if tasks:\n",
    "            try:\n",
    "                \n",
    "                num = int(input(\"Enter the task number to delete:\"))\n",
    "                if 1 <= num <= len(tasks):\n",
    "                    remove = tasks.pop(num-1)\n",
    "                    print(f\" task [{remove}] removed \")\n",
    "                else:\n",
    "                    print(\"Invalid number\")\n",
    "            except ValueError:\n",
    "                print(\"wrong value\")\n",
    "        else:\n",
    "            print(\"no value has been deleted\")\n",
    "        \n",
    "    elif choice == \"4\":\n",
    "        print(\"Bye\")\n",
    "        break;\n",
    "    else:\n",
    "        print(\"{Error !!! } Choose the number from 1-3\")\n",
    "        "
   ]
  },
  {
   "cell_type": "code",
   "execution_count": null,
   "id": "0920b3f2-114a-49ab-a7b9-a93976c94577",
   "metadata": {},
   "outputs": [],
   "source": []
  }
 ],
 "metadata": {
  "kernelspec": {
   "display_name": "Python 3 (ipykernel)",
   "language": "python",
   "name": "python3"
  },
  "language_info": {
   "codemirror_mode": {
    "name": "ipython",
    "version": 3
   },
   "file_extension": ".py",
   "mimetype": "text/x-python",
   "name": "python",
   "nbconvert_exporter": "python",
   "pygments_lexer": "ipython3",
   "version": "3.12.3"
  }
 },
 "nbformat": 4,
 "nbformat_minor": 5
}
